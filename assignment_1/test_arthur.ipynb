{
 "cells": [
  {
   "cell_type": "markdown",
   "id": "5c24ca04",
   "metadata": {},
   "source": []
  }
 ],
 "metadata": {
  "language_info": {
   "name": "python"
  }
 },
 "nbformat": 4,
 "nbformat_minor": 5
}
